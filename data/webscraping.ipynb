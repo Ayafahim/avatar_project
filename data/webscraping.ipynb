{
 "cells": [
  {
   "cell_type": "code",
   "execution_count": 32,
   "metadata": {},
   "outputs": [
    {
     "name": "stderr",
     "output_type": "stream",
     "text": [
      "DEBUG:urllib3.connectionpool:Starting new HTTPS connection (1): avatar.fandom.com:443\n",
      "DEBUG:urllib3.connectionpool:https://avatar.fandom.com:443 \"GET /wiki/The_Headband HTTP/11\" 200 73026\n",
      "DEBUG:prawcore:Fetching: GET https://oauth.reddit.com/comments/ohxf2c/ at 1733872779.800313\n",
      "DEBUG:prawcore:Data: None\n",
      "DEBUG:prawcore:Params: {'limit': 2048, 'raw_json': 1, 'sort': 'confidence'}\n",
      "DEBUG:urllib3.connectionpool:Starting new HTTPS connection (1): www.reddit.com:443\n"
     ]
    },
    {
     "name": "stdout",
     "output_type": "stream",
     "text": [
      "Scraping Fandom...\n",
      "Fandom Content: \"The Headband\"InformationSeriesAvatar: The Last AirbenderBookFireEpisode42/61Original air dateSeptem\n",
      "Fandom Content: Upon entering the Fire Nation, Aang and his friends steal local clothes in order to live incognito a\n",
      "Fandom Content: Zukotosses and turns in his sleep before he eventually awakens and arises from his bed. He makes his\n",
      "Fandom Content: Meanwhile,Aangand the others are traveling through the Fire Nation, using a combination ofwaterbendi\n",
      "Fandom Content: In town, the group attempts to blend in and act natural, which is somewhat impeded by Aang, who, hav\n",
      "Fandom Content: Aang, covered in soot as a result of the game, returns to the cave at nightfall, to the relief of Ka\n",
      "Fandom Content: Meanwhile, Zuko returns to the prison. When confronted by the guard from the previous night, he aggr\n",
      "Fandom Content: The next day at school, Aang gets in trouble for not reciting the Fire Nation Oath correctly, having\n",
      "Fandom Content: In band class, Aang tries to play thetsungi hornand gets chided bythe teacherfor dancing, which appa\n",
      "Fandom Content: Meanwhile, Zuko has a romantic picnic withMaiand they share a kiss. The two are interrupted byAzula,\n",
      "Fandom Content: Back in the cave, the children arrive and theschool bandbegins to play. However, they are stunned by\n",
      "Fandom Content: Team Avatar manages to slip away in the opening behind the cave. However, before leaving, Aang stops\n",
      "Fandom Content: While the group flies off on Appa, Toph compliments Aang on his efforts, which she believes made a s\n",
      "Fandom Content: Meanwhile, Zuko walks into a dark alley at night. There he meetsa mysterious manwith a metal arm and\n"
     ]
    },
    {
     "name": "stderr",
     "output_type": "stream",
     "text": [
      "DEBUG:urllib3.connectionpool:https://www.reddit.com:443 \"POST /api/v1/access_token HTTP/11\" 200 659\n",
      "DEBUG:urllib3.connectionpool:Starting new HTTPS connection (1): oauth.reddit.com:443\n",
      "DEBUG:urllib3.connectionpool:https://oauth.reddit.com:443 \"GET /comments/ohxf2c/?limit=2048&sort=confidence&raw_json=1 HTTP/11\" 200 11987\n",
      "DEBUG:prawcore:Response: 200 (11987 bytes) (rst-19:rem-997.0:used-3 ratelimit) at 1733872780.563091\n"
     ]
    },
    {
     "name": "stdout",
     "output_type": "stream",
     "text": [
      "Scraping Reddit: ATLA Rewatch S3E2: \"The Headband\"\n",
      "Reddit Comment by u/RaastaMousee: I always really liked the look of Aang with hair for some reason\n",
      "Reddit Comment by u/vidavex: I LOVE this episode! I know it’s kind of filler but it’s so cute. I love how Aang just... goes to sc\n",
      "Reddit Comment by u/cojo651: I LOVE THIS EPISODE. IT NEVER GETS OLD\n",
      "\n",
      "Aang with hair and headband and fire nation gaang looks in g\n",
      "Reddit Comment by u/JTurner82: It shouldn't be possible for a filler episode to be one of my favorites in a series unless it is rea\n",
      "Reddit Comment by u/Forest_Maiden: Sorry my comment is not as thoughtful as everyone else's, but seriously as a lady who (has been preg\n",
      "Reddit Comment by u/bap1994: This episode is a great introduction to Fire Nation culture and norms. Sure, we’ve spent plenty of t\n",
      "Reddit Comment by u/StrawberryLover8: This episode is definitely one of my favorites of the show!!! The outfits are all 10/10 perfection!!\n",
      "Reddit Comment by u/Obamas_Tie: This episode is one of my favorites in the entire series. The dance party scene is so vibrant and fu\n",
      "Reddit Comment by u/tribunalpickaxe: This is a fine episode, but in my opinion on the weaker side of Avatar. In the A-plot, I like the lo\n",
      "Reddit Comment by u/TheFlameosTsungiHorn: This my FAVORITE episode! It’s also where I got my username funny enough. I love the aspect of the F\n",
      "Reddit Comment by u/EndQualifiedImunity: The animation in this episode is godly. I love how flowy all of the action sequences are.\n",
      "Reddit Comment by u/vidavex: Me too! I think it really suits him\n",
      "Reddit Comment by u/Maldzar: I think you're maybe reading into how Zuko found an assassin too much. It's the Fire Nation in the m\n",
      "Reddit Comment by u/lukfi95: >>Kataango\n",
      "\n",
      "I love this.\n",
      "\n",
      "Scraped data saved to scraped_data_Headband_episode.csv\n"
     ]
    }
   ],
   "source": [
    "import requests\n",
    "from bs4 import BeautifulSoup\n",
    "import praw\n",
    "import csv\n",
    "\n",
    "# Initialize data structure to store scraped data\n",
    "scraped_data = {\n",
    "    \"Fandom\": [],\n",
    "    \"Reddit\": []\n",
    "}\n",
    "\n",
    "# 1. Scrape Avatar Fandom Page\n",
    "def scrape_fandom():\n",
    "    url = \"https://avatar.fandom.com/wiki/The_Headband\"\n",
    "    headers = {'User-Agent': 'Mozilla/5.0'}\n",
    "    response = requests.get(url, headers=headers)\n",
    "    soup = BeautifulSoup(response.text, 'html.parser')\n",
    "\n",
    "    print(\"Scraping Fandom...\")\n",
    "    content = soup.find('div', class_='mw-parser-output')\n",
    "    paragraphs = content.find_all('p', recursive=False)\n",
    "    for paragraph in paragraphs:\n",
    "        text = paragraph.get_text(strip=True)\n",
    "        scraped_data[\"Fandom\"].append({\"username\": \"Anonymous\", \"content\": text})\n",
    "        print(f\"Fandom Content: {text[:100]}\")\n",
    "\n",
    "# 2. Scrape Reddit Comments\n",
    "def scrape_reddit():\n",
    "    client_id = 'C8hTmQQbMoYjWsoYjSUR3Q'\n",
    "    client_secret = 'b1IIVWS8XwO4jvoey1DNi4WAmbj59g'\n",
    "    user_agent = 'WebscrapAvatar: a script to scrape reddit comments (by u/Better-Translator425)'\n",
    "\n",
    "    reddit = praw.Reddit(\n",
    "        client_id=client_id,\n",
    "        client_secret=client_secret,\n",
    "        user_agent=user_agent,\n",
    "    )\n",
    "\n",
    "    post_url = \"https://www.reddit.com/r/TheLastAirbender/comments/ohxf2c/atla_rewatch_s3e2_the_headband/\"\n",
    "    submission = reddit.submission(url=post_url)\n",
    "\n",
    "    print(f\"Scraping Reddit: {submission.title}\")\n",
    "    submission.comments.replace_more(limit=0)\n",
    "    for comment in submission.comments.list():\n",
    "        username = comment.author.name if comment.author else '[deleted]'\n",
    "        scraped_data[\"Reddit\"].append({\"username\": username, \"content\": comment.body})\n",
    "        print(f\"Reddit Comment by u/{username}: {comment.body[:100]}\")\n",
    "\n",
    "# Save the data to a CSV file\n",
    "def save_to_csv():\n",
    "    output_file = 'scraped_data_Headband_episode.csv'\n",
    "    with open(output_file, mode='w', newline='', encoding='utf-8') as file:\n",
    "        writer = csv.writer(file)\n",
    "        writer.writerow(['Source', 'Username', 'Content'])  # Header row\n",
    "        \n",
    "        for source, entries in scraped_data.items():\n",
    "            for entry in entries:\n",
    "                writer.writerow([source, entry['username'], entry['content']])\n",
    "    \n",
    "    print(f\"\\nScraped data saved to {output_file}\")\n",
    "\n",
    "# Call each scraping function\n",
    "scrape_fandom()\n",
    "scrape_reddit()\n",
    "\n",
    "# Save the data to a CSV file\n",
    "save_to_csv()\n"
   ]
  }
 ],
 "metadata": {
  "kernelspec": {
   "display_name": "wiki_env",
   "language": "python",
   "name": "python3"
  },
  "language_info": {
   "codemirror_mode": {
    "name": "ipython",
    "version": 3
   },
   "file_extension": ".py",
   "mimetype": "text/x-python",
   "name": "python",
   "nbconvert_exporter": "python",
   "pygments_lexer": "ipython3",
   "version": "3.11.10"
  }
 },
 "nbformat": 4,
 "nbformat_minor": 2
}
